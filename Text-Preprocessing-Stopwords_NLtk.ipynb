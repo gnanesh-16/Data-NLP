{
 "cells": [
  {
   "cell_type": "markdown",
   "metadata": {},
   "source": [
    "# Stop Words \n",
    "-> "
   ]
  },
  {
   "cell_type": "code",
   "execution_count": 1,
   "metadata": {},
   "outputs": [],
   "source": [
    "###Speech of BillGates\n",
    "paragraph = \"\"\"Bill Gates has been a prominent advocate for global health issues for many years. Through the Bill & Melinda Gates Foundation, which he co-founded with his then-wife Melinda Gates, he has focused on addressing various global health challenges, including combating infectious diseases, improving maternal and child health, eradicating polio, and supporting vaccination programs worldwide.\n",
    "\n",
    "In his speeches on global health, Gates often emphasizes the importance of healthcare equity, innovative approaches to disease prevention and treatment, the role of vaccines in saving lives, and the need for global collaboration to improve health outcomes, especially in developing countries.\n",
    "\n",
    "Some of his speeches on global health have been delivered at events like the World Economic Forum, TED Talks, and various conferences related to health and development, where he highlights the Foundation's efforts and encourages others to contribute to improving global health conditions. For specific details about a particular speech or topic within global health that you're interested in, please provide more context, and I'll try to offer more precise information.\"\"\"\n",
    "\n",
    "corpus = \"\"\"\"I dream of an India that is strong, self-reliant, and self-assured. An India that is a proud and equal partner in a world order that is characterized by peace and justice. I dream of an India that is prosperous, healthy, secure, and compassionate. An India that bridges economic disparities and social inequalities.\"\n",
    "\n",
    "Dr. Kalam's speeches often emphasized the role of youth in nation-building, technological advancement, and the importance of innovation and education for a prosperous future.\n",
    "\n",
    "Please note that this is just a brief excerpt, and Dr. Kalam has delivered numerous speeches throughout his lifetime, each containing valuable insights and messages. His speeches are widely available, and you can explore more of his impactful words by searching for specific titles or themes of his speeches.\"\"\"\n",
    "\n",
    "# Ex_Of_StopWords= i,is,to,this,that and etc..."
   ]
  },
  {
   "cell_type": "code",
   "execution_count": null,
   "metadata": {},
   "outputs": [],
   "source": [
    "from nltk.stem import PorterStemmer\n",
    "from nltk.corpus import stopwords"
   ]
  },
  {
   "cell_type": "code",
   "execution_count": 2,
   "metadata": {},
   "outputs": [
    {
     "name": "stderr",
     "output_type": "stream",
     "text": [
      "[nltk_data] Error loading stopwords: <urlopen error [WinError 10060] A\n",
      "[nltk_data]     connection attempt failed because the connected party\n",
      "[nltk_data]     did not properly respond after a period of time, or\n",
      "[nltk_data]     established connection failed because connected host\n",
      "[nltk_data]     has failed to respond>\n"
     ]
    },
    {
     "data": {
      "text/plain": [
       "False"
      ]
     },
     "execution_count": 2,
     "metadata": {},
     "output_type": "execute_result"
    }
   ],
   "source": [
    "import nltk \n",
    "nltk.download('stopwords')"
   ]
  },
  {
   "cell_type": "markdown",
   "metadata": {},
   "source": [
    "# Custom_Stopwords"
   ]
  },
  {
   "cell_type": "code",
   "execution_count": 32,
   "metadata": {},
   "outputs": [],
   "source": [
    "#custome_StopWords \n",
    "custom_stopwords = [\n",
    "     'me', 'my', 'myself', 'we', 'our', 'ours', 'ourselves', 'you', \"you're\", \n",
    "    \"you've\", \"you'll\", \"you'd\", 'your', 'yours', 'yourself', 'yourselves', 'he', \n",
    "    'him', 'his', 'himself', 'she', \"she's\", 'her', 'hers', 'herself', 'it', \"it's\", \n",
    "    'its', 'itself', 'they', 'them', 'their', 'theirs', 'themselves', 'what', 'which', \n",
    "    'who', 'whom', 'this', 'that', \"that'll\", 'these', 'those', 'am', 'is', 'are', 'was', \n",
    "    'were', 'be', 'been', 'being', 'have', 'has', 'had', 'having', 'do', 'does', 'did', \n",
    "    'doing', 'a', 'an', 'the', 'and', 'but', 'if', 'or', 'because', 'as', 'until', 'while', \n",
    "    'of', 'at', 'by', 'for', 'with', 'about', 'against', 'between', 'into', 'through', \n",
    "    'during', 'before', 'after', 'above', 'below', 'to', 'from', 'up', 'down', 'in', 'out', \n",
    "    'on', 'off', 'over', 'under', 'again', 'further', 'then', 'once', 'here', 'there', 'when', \n",
    "    'where', 'why', 'how', 'all', 'any', 'both', 'each', 'few', 'more', 'most', 'other', 'some', \n",
    "    'such', 'no', 'nor', 'not', 'only', 'own', 'same', 'so', 'than', 'too', 'very', 's', 't', 'can', \n",
    "    'will', 'just', 'don', \"don't\", 'should', \"should've\", 'now', 'd', 'll', 'm', 'o', 're', 've', \n",
    "    'y', 'ain', 'aren', \"aren't\", 'couldn', \"couldn't\", 'didn', \"didn't\", 'doesn', \"doesn't\", 'hadn', \n",
    "    \"hadn't\", 'hasn', \"hasn't\", 'haven', \"haven't\", 'isn', \"isn't\", 'ma', 'mightn', \"mightn't\", 'mustn', \n",
    "    \"mustn't\", 'needn', \"needn't\", 'shan', \"shan't\", 'shouldn', \"shouldn't\", 'wasn', \"wasn't\", 'weren', \n",
    "    \"weren't\", 'won', \"won't\", 'wouldn', \"wouldn't\"]\n"
   ]
  },
  {
   "cell_type": "code",
   "execution_count": 38,
   "metadata": {},
   "outputs": [
    {
     "name": "stdout",
     "output_type": "stream",
     "text": [
      "I Dream India strong, self-reliant, self-assured. India proud equal partner world order characterized peace justice. I dream India prosperous, healthy, secure, compassionate. India bridges economic disparities social inequalities.\" Dr. Kalam's speeches often emphasized role youth nation-building, technological advancement, importance innovation education prosperous future. Please note brief excerpt, Dr. Kalam delivered numerous speeches throughout lifetime, containing valuable insights messages. speeches widely available, explore impactful words searching specific titles themes speeches. People\n"
     ]
    }
   ],
   "source": [
    "corpus = \"\"\" I Dream of an India that is strong, self-reliant, and self-assured. An India that is a proud and equal partner in a world order that is characterized by peace and justice. I dream of an India that is prosperous, healthy, secure, and compassionate. An India that bridges economic disparities and social inequalities.\"\n",
    "\n",
    "Dr. Kalam's speeches often emphasized the role of youth in nation-building, technological advancement, and the importance of innovation and education for a prosperous future.\n",
    "\n",
    "Please note that this is just a brief excerpt, and Dr. Kalam has delivered numerous speeches throughout his lifetime, each containing valuable insights and messages. His speeches are widely available, and you can explore more of his impactful words by searching for specific titles or themes of his speeches.\n",
    "People \"\"\"\n",
    "\n",
    "words = corpus.split()\n",
    "# Filter out stopwords using the custom list\n",
    "filtered_corpus = ' '.join([word for word in words if word.lower() not in custom_stopwords])\n",
    "print(filtered_corpus)"
   ]
  },
  {
   "cell_type": "code",
   "execution_count": 39,
   "metadata": {},
   "outputs": [],
   "source": [
    "from nltk.stem import PorterStemmer\n",
    "stemmer = PorterStemmer()"
   ]
  },
  {
   "cell_type": "code",
   "execution_count": 40,
   "metadata": {},
   "outputs": [],
   "source": [
    "#Performing tokenizer List will get by using sent_tokenize\n",
    "sentences = nltk.sent_tokenize(corpus)"
   ]
  },
  {
   "cell_type": "code",
   "execution_count": 28,
   "metadata": {},
   "outputs": [
    {
     "data": {
      "text/plain": [
       "list"
      ]
     },
     "execution_count": 28,
     "metadata": {},
     "output_type": "execute_result"
    }
   ],
   "source": [
    "type(sentences)"
   ]
  },
  {
   "cell_type": "code",
   "execution_count": null,
   "metadata": {},
   "outputs": [],
   "source": [
    "import nltk\n",
    "nltk.download('stopwords')"
   ]
  },
  {
   "cell_type": "markdown",
   "metadata": {},
   "source": [
    "==PROCESSS\n",
    "-> Apply Stopwords\n",
    "-> Filter\n",
    "-> Stemming.."
   ]
  },
  {
   "cell_type": "markdown",
   "metadata": {},
   "source": [
    "\n",
    "#  =========Used for Regular Stopwords**=========\n",
    "-> applying stopwords if doesn't falls under stopwords then apply stemmning\n",
    "-> only stemming is performed to that particular word \n",
    "-> converting all words into sentences\n",
    "\n",
    "for i in range(len(sentences)):\n",
    "    words = nltk.word_tokenize(sentences[i])\n",
    "    \n",
    "\n",
    "    words =  [stemmer.stem(word)  for word in words if word not in set(stopwords.words('english'))]\n",
    "\n",
    "    sentences[i]=' '.join(words)\n",
    "\n"
   ]
  },
  {
   "cell_type": "code",
   "execution_count": 35,
   "metadata": {},
   "outputs": [
    {
     "name": "stdout",
     "output_type": "stream",
     "text": [
      "dream india strong , self-r , self-assur .\n",
      "india proud equal partner world order charact peac justic .\n",
      "dream india prosper , healthi , secur , compass .\n",
      "india bridg econom dispar social inequ . ``\n",
      "dr. kalam 's speech often empha role youth nation-build , technolog advanc , import innov educ prosper futur .\n",
      "plea note brief excerpt , dr. kalam deliv numer speech throughout lifetim , contain valuabl insight messag .\n",
      "speech wide avail , explor impact word search specif titl theme speech .\n",
      "peopl\n"
     ]
    }
   ],
   "source": [
    "import nltk\n",
    "from nltk.tokenize import word_tokenize, sent_tokenize\n",
    "from nltk.stem import PorterStemmer\n",
    "from nltk.corpus import stopwords\n",
    "\n",
    "stemmer = PorterStemmer()\n",
    "for i in range(len(sentences)):\n",
    "    words = word_tokenize(sentences[i])\n",
    "    # Applying custom stop words and stemming\n",
    "    words = [stemmer.stem(word) for word in words if word.lower() not in custom_stopwords]\n",
    "    sentences[i] = ' '.join(words)  # Converting words back to sentences\n",
    "\n",
    "# Display the modified sentences\n",
    "for sentence in sentences:\n",
    "    print(sentence)"
   ]
  },
  {
   "cell_type": "code",
   "execution_count": null,
   "metadata": {},
   "outputs": [],
   "source": [
    "#-> We can Clearly observe people --> converted to peopl\n",
    "# so the words have been cut so we use Snowball stemmer "
   ]
  },
  {
   "cell_type": "markdown",
   "metadata": {},
   "source": [
    "# Snowball stemmer\n"
   ]
  },
  {
   "cell_type": "code",
   "execution_count": 51,
   "metadata": {},
   "outputs": [
    {
     "name": "stdout",
     "output_type": "stream",
     "text": [
      "I i Dream India strong, self-reliant, self-assured. India proud equal partner world order characterized peace justice. I dream India prosperous, healthy, secure, compassionate. India bridges economic disparities social inequalities.\" Dr. Kalam's speeches often emphasized role youth nation-building, technological advancement, importance innovation education prosperous future. Please note brief excerpt, Dr. Kalam delivered numerous speeches throughout lifetime, containing valuable insights messages. speeches widely available, explore impactful words searching specific titles themes speeches. People\n"
     ]
    }
   ],
   "source": [
    "corpus = \"\"\" I iDream of an India that is strong, self-reliant, and self-assured. An India that is a proud and equal partner in a world order that is characterized by peace and justice. I dream of an India that is prosperous, healthy, secure, and compassionate. An India that bridges economic disparities and social inequalities.\"\n",
    "\n",
    "Dr. Kalam's speeches often emphasized the role of youth in nation-building, technological advancement, and the importance of innovation and education for a prosperous future.\n",
    "\n",
    "Please note that this is just a brief excerpt, and Dr. Kalam has delivered numerous speeches throughout his lifetime, each containing valuable insights and messages. His speeches are widely available, and you can explore more of his impactful words by searching for specific titles or themes of his speeches.\n",
    "People \"\"\"\n",
    "\n",
    "words = corpus.split()\n",
    "# Filter out stopwords using the custom list\n",
    "filtered_corpus = ' '.join([word for word in words if word.lower() not in custom_stopwords])\n",
    "print(filtered_corpus)\n",
    "\n",
    "from nltk.stem import PorterStemmer\n",
    "stemmer = PorterStemmer()\n",
    "\n",
    "#Performing tokenizer List will get by using sent_tokenize\n",
    "sentences = nltk.sent_tokenize(corpus)"
   ]
  },
  {
   "cell_type": "code",
   "execution_count": 52,
   "metadata": {},
   "outputs": [],
   "source": [
    "from nltk.stem import SnowballStemmer\n",
    "snow_stemmer = SnowballStemmer('english')\n",
    "\n",
    "stemmer = PorterStemmer()\n",
    "for i in range(len(sentences)):\n",
    "    words = word_tokenize(sentences[i])\n",
    "    # Applying custom stop words and stemming\n",
    "    words = [snow_stemmer.stem(word) for word in words if word.lower() not in custom_stopwords]\n",
    "    sentences[i] = ' '.join(words) "
   ]
  },
  {
   "cell_type": "code",
   "execution_count": 53,
   "metadata": {},
   "outputs": [
    {
     "data": {
      "text/plain": [
       "['i i dream india strong , self-reli , self-assur .',\n",
       " 'india proud equal partner world order character peac justic .',\n",
       " 'i dream india prosper , healthi , secur , compassion .',\n",
       " \"india bridg econom dispar social inequ . ''\",\n",
       " \"dr. kalam 's speech often emphas role youth nation-build , technolog advanc , import innov educ prosper futur .\",\n",
       " 'pleas note brief excerpt , dr. kalam deliv numer speech throughout lifetim , contain valuabl insight messag .',\n",
       " 'speech wide avail , explor impact word search specif titl theme speech .',\n",
       " 'peopl']"
      ]
     },
     "execution_count": 53,
     "metadata": {},
     "output_type": "execute_result"
    }
   ],
   "source": [
    "sentences\n",
    "#all the small and capital words are making it as small I to i "
   ]
  },
  {
   "cell_type": "markdown",
   "metadata": {},
   "source": [
    "# ↝ Wordnet Lemmatizer \n",
    " -> Has Dictionary of Wordnet CorpusReader which actucally Mapping/comparing them to out of our Input Corpus.. ."
   ]
  },
  {
   "cell_type": "code",
   "execution_count": 56,
   "metadata": {},
   "outputs": [],
   "source": [
    "# if Wordnet lemmatizer is not downloaded then easy it's easy to create our own wordnet dictionary \n",
    "import nltk \n",
    "from nltk.corpus import wordnet\n",
    "from nltk.stem import WordNetLemmatizer\n",
    "import nltk\n",
    "\n",
    "class CustomWordNetLemmatizer:\n",
    "    def __init__(self):\n",
    "        self.lemmatizer = WordNetLemmatizer()\n",
    "\n",
    "    def lemmatize(self, word):\n",
    "        tag = nltk.pos_tag([word])[0][1][0].upper()\n",
    "        tag_dict = {\n",
    "            \"J\": wordnet.ADJ,\n",
    "            \"N\": wordnet.NOUN,\n",
    "            \"V\": wordnet.VERB,\n",
    "            \"R\": wordnet.ADV\n",
    "        }\n",
    "        pos = tag_dict.get(tag, wordnet.NOUN)  # Default to noun if not found\n",
    "        return self.lemmatizer.lemmatize(word, pos)\n"
   ]
  },
  {
   "cell_type": "code",
   "execution_count": null,
   "metadata": {},
   "outputs": [],
   "source": [
    "#origin ---> wordNet\n",
    "import nltk\n",
    "from nltk.stem import WordNetLemmatizer\n",
    "lemmatizer = WordNetLemmatizer()\n",
    "\n",
    "for i in range(len(sentences)):\n",
    "    words = word_tokenize(sentences[i])\n",
    "    # Applying custom stop words and stemming\n",
    "    words = [lemmatizer.lemmatize(word) for word in words if word.lower() not in custom_stopwords]\n",
    "    sentences[i] = ' '.join(words) "
   ]
  },
  {
   "cell_type": "code",
   "execution_count": null,
   "metadata": {},
   "outputs": [],
   "source": [
    "#Custom WordNet \n",
    "custom_lemmatizer = CustomWordNetLemmatizer()\n",
    "words = [\"running\", \"ate\", \"better\", \"cats\", \"rocks\"]\n",
    "\n",
    "# Lemmatize each word using the custom lemmatizer\n",
    "for word in words:\n",
    "    lemma = custom_lemmatizer.lemmatize(word)\n",
    "    print(f\"Lemma of '{word}' is: {lemma}\")"
   ]
  }
 ],
 "metadata": {
  "kernelspec": {
   "display_name": "myenv",
   "language": "python",
   "name": "python3"
  },
  "language_info": {
   "codemirror_mode": {
    "name": "ipython",
    "version": 3
   },
   "file_extension": ".py",
   "mimetype": "text/x-python",
   "name": "python",
   "nbconvert_exporter": "python",
   "pygments_lexer": "ipython3",
   "version": "3.10.5"
  }
 },
 "nbformat": 4,
 "nbformat_minor": 2
}
